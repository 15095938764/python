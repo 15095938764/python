{
 "cells": [
  {
   "cell_type": "code",
   "execution_count": 1,
   "metadata": {},
   "outputs": [
    {
     "name": "stderr",
     "output_type": "stream",
     "text": [
      "C:\\Users\\Yeah_Kun\\Anaconda3\\lib\\site-packages\\h5py\\__init__.py:36: FutureWarning: Conversion of the second argument of issubdtype from `float` to `np.floating` is deprecated. In future, it will be treated as `np.float64 == np.dtype(float).type`.\n",
      "  from ._conv import register_converters as _register_converters\n"
     ]
    }
   ],
   "source": [
    "from save_image_into_h5py import TransImg\n",
    "import h5py\n",
    "import numpy as np\n",
    "import tensorflow as tf\n",
    "from tensorflow.python.framework import ops\n",
    "from cnn_utils import *\n",
    "from Model import CaptchaRecognition"
   ]
  },
  {
   "cell_type": "markdown",
   "metadata": {},
   "source": [
    "### 加载数据"
   ]
  },
  {
   "cell_type": "code",
   "execution_count": 4,
   "metadata": {},
   "outputs": [
    {
     "name": "stdout",
     "output_type": "stream",
     "text": [
      "X_train shape: (1, 60, 140, 3)\n",
      "Y_train shape: (1, 144)\n",
      "X_test shape: (1, 60, 140, 3)\n",
      "Y_test shape: (1, 144)\n"
     ]
    }
   ],
   "source": [
    "train_path = \"./datasets/train_vcode_v2.h5\"\n",
    "test_path = \"./datasets/test_vcode_v2.h5\"\n",
    "char_set = ['0', '1', '2', '3', '4', '5', '6', '7', '8', '9', 'a', 'b', 'c', 'd', 'e', 'f', 'g', 'h', 'i', 'j', 'k', 'l', 'm', 'n', 'o', 'p', 'q', 'r', 's', 't',\n",
    "                'u', 'v', 'w', 'x', 'y', 'z']\n",
    "c = CaptchaRecognition(4, char_set)\n",
    "c.load_datasets(train_path, test_path)"
   ]
  },
  {
   "cell_type": "code",
   "execution_count": 7,
   "metadata": {},
   "outputs": [
    {
     "name": "stdout",
     "output_type": "stream",
     "text": [
      "[[[[0.49803922 0.49803922 0.49803922]\n",
      "   [0.49803922 0.49803922 0.49803922]\n",
      "   [0.49803922 0.49803922 0.49803922]\n",
      "   ...\n",
      "   [0.49803922 0.49803922 0.49803922]\n",
      "   [0.49803922 0.49803922 0.49803922]\n",
      "   [0.49803922 0.49803922 0.49803922]]\n",
      "\n",
      "  [[0.49803922 0.49803922 0.49803922]\n",
      "   [0.49803922 0.49803922 0.49803922]\n",
      "   [0.49803922 0.49803922 0.49803922]\n",
      "   ...\n",
      "   [0.49803922 0.49803922 0.49803922]\n",
      "   [0.49803922 0.49803922 0.49803922]\n",
      "   [0.49803922 0.49803922 0.49803922]]\n",
      "\n",
      "  [[0.49803922 0.49803922 0.49803922]\n",
      "   [0.49803922 0.49803922 0.49803922]\n",
      "   [0.49803922 0.49803922 0.49803922]\n",
      "   ...\n",
      "   [0.49803922 0.49803922 0.49803922]\n",
      "   [0.49803922 0.49803922 0.49803922]\n",
      "   [0.49803922 0.49803922 0.49803922]]\n",
      "\n",
      "  ...\n",
      "\n",
      "  [[0.49803922 0.49803922 0.49803922]\n",
      "   [0.49803922 0.49803922 0.49803922]\n",
      "   [0.49803922 0.49803922 0.49803922]\n",
      "   ...\n",
      "   [0.49803922 0.49803922 0.49803922]\n",
      "   [0.49803922 0.49803922 0.49803922]\n",
      "   [0.49803922 0.49803922 0.49803922]]\n",
      "\n",
      "  [[0.49803922 0.49803922 0.49803922]\n",
      "   [0.49803922 0.49803922 0.49803922]\n",
      "   [0.49803922 0.49803922 0.49803922]\n",
      "   ...\n",
      "   [0.49803922 0.49803922 0.49803922]\n",
      "   [0.49803922 0.49803922 0.49803922]\n",
      "   [0.49803922 0.49803922 0.49803922]]\n",
      "\n",
      "  [[0.49803922 0.49803922 0.49803922]\n",
      "   [0.49803922 0.49803922 0.49803922]\n",
      "   [0.49803922 0.49803922 0.49803922]\n",
      "   ...\n",
      "   [0.49803922 0.49803922 0.49803922]\n",
      "   [0.49803922 0.49803922 0.49803922]\n",
      "   [0.49803922 0.49803922 0.49803922]]]] [[0. 0. 0. 0. 0. 0. 0. 0. 0. 0. 0. 0. 0. 0. 0. 0. 0. 0. 0. 0. 0. 0. 1. 0.\n",
      "  0. 0. 0. 0. 0. 0. 0. 0. 0. 0. 0. 0. 0. 0. 0. 0. 0. 0. 0. 0. 0. 0. 1. 0.\n",
      "  0. 0. 0. 0. 0. 0. 0. 0. 0. 0. 0. 0. 0. 0. 0. 0. 0. 0. 0. 0. 0. 0. 0. 0.\n",
      "  0. 0. 0. 0. 0. 0. 0. 0. 0. 0. 0. 0. 0. 0. 0. 0. 0. 0. 0. 0. 0. 0. 0. 0.\n",
      "  0. 0. 0. 0. 0. 0. 0. 1. 0. 0. 0. 0. 0. 0. 0. 0. 0. 0. 0. 0. 0. 0. 0. 0.\n",
      "  0. 0. 0. 0. 0. 0. 0. 0. 0. 0. 0. 1. 0. 0. 0. 0. 0. 0. 0. 0. 0. 0. 0. 0.]]\n"
     ]
    }
   ],
   "source": [
    "print(c.X_test, c.Y_test)"
   ]
  },
  {
   "cell_type": "code",
   "execution_count": 12,
   "metadata": {},
   "outputs": [
    {
     "name": "stdout",
     "output_type": "stream",
     "text": [
      "0.0332301\n"
     ]
    }
   ],
   "source": [
    "ops.reset_default_graph()\n",
    "(m, n_H0, n_W0, n_C0) = c.X_train.shape\n",
    "n_y = c.Y_train.shape[1]\n",
    "X, Y = c.create_placeholders(n_H0, n_W0, n_C0, n_y)\n",
    "parameters = c.init_parameters()\n",
    "Y_hat = c.forward_propagation(X, parameters)\n",
    "cost = c.compute_cost(Y_hat, Y)\n",
    "optimizer = tf.train.AdamOptimizer(learning_rate = 0.009).minimize(cost)\n",
    "init = tf.global_variables_initializer()\n",
    "with tf.Session() as sess:\n",
    "    sess.run(init)\n",
    "    _, epoch_cost = sess.run([optimizer, cost], feed_dict={X: c.X_test, Y: c.Y_test})\n",
    "    print(epoch_cost)"
   ]
  },
  {
   "cell_type": "code",
   "execution_count": null,
   "metadata": {
    "collapsed": true
   },
   "outputs": [],
   "source": []
  }
 ],
 "metadata": {
  "kernelspec": {
   "display_name": "Python 3",
   "language": "python",
   "name": "python3"
  },
  "language_info": {
   "codemirror_mode": {
    "name": "ipython",
    "version": 3
   },
   "file_extension": ".py",
   "mimetype": "text/x-python",
   "name": "python",
   "nbconvert_exporter": "python",
   "pygments_lexer": "ipython3",
   "version": "3.6.1"
  }
 },
 "nbformat": 4,
 "nbformat_minor": 2
}
